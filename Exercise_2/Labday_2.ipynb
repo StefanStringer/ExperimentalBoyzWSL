{
 "cells": [
  {
   "cell_type": "code",
   "execution_count": 2,
   "metadata": {},
   "outputs": [],
   "source": [
    "import numpy as np\n",
    "import os\n",
    "import matplotlib.pyplot as plt\n",
    "import scipy.optimize as sp\n",
    "import scipy.constants as const\n",
    "plt.rcParams['figure.dpi'] = 150"
   ]
  },
  {
   "cell_type": "code",
   "execution_count": 3,
   "metadata": {},
   "outputs": [],
   "source": [
    "Data_names = []\n",
    "for (dir_path, dir_names, file_names) in os.walk('./Labday_2_measurements_2'):\n",
    "    Data_names.extend(file_names)"
   ]
  },
  {
   "cell_type": "code",
   "execution_count": 45,
   "metadata": {},
   "outputs": [],
   "source": [
    "Data_time = []\n",
    "Data_V1 = []\n",
    "Data_V2 = []\n",
    "\n",
    "for i, Data_name in enumerate(Data_names):\n",
    "    Data = np.loadtxt('Labday_2_measurements_2/' + Data_name, skiprows = 3)\n",
    "    Data_time.append(Data[:, 0])\n",
    "    Data_V1.append(Data[:, 1])\n",
    "    Data_V2.append(Data[:, 2])"
   ]
  },
  {
   "cell_type": "code",
   "execution_count": 46,
   "metadata": {},
   "outputs": [],
   "source": [
    "c = const.c\n",
    "eps0 = const.epsilon_0\n",
    "T = 0.5\n",
    "R = 0.5\n",
    "I_av = [np.mean(i) for i in Data_V1]"
   ]
  },
  {
   "cell_type": "markdown",
   "metadata": {},
   "source": [
    "3599 to 7373"
   ]
  },
  {
   "cell_type": "code",
   "execution_count": 50,
   "metadata": {},
   "outputs": [
    {
     "data": {
      "text/plain": [
       "-0.1747047"
      ]
     },
     "execution_count": 50,
     "metadata": {},
     "output_type": "execute_result"
    }
   ],
   "source": [
    "def find_increase(L):\n",
    "    minimum = min(L)\n",
    "    L = np.delete(L, [0])\n",
    "    \n",
    "    return minimum\n",
    "\n",
    "test = find_increase(Data_V2[0])"
   ]
  }
 ],
 "metadata": {
  "kernelspec": {
   "display_name": "Python 3",
   "language": "python",
   "name": "python3"
  },
  "language_info": {
   "codemirror_mode": {
    "name": "ipython",
    "version": 3
   },
   "file_extension": ".py",
   "mimetype": "text/x-python",
   "name": "python",
   "nbconvert_exporter": "python",
   "pygments_lexer": "ipython3",
   "version": "3.12.1"
  }
 },
 "nbformat": 4,
 "nbformat_minor": 2
}
