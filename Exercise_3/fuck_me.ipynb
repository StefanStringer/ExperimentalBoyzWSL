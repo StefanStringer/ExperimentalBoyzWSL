{
 "cells": [
  {
   "cell_type": "code",
   "execution_count": 11,
   "metadata": {},
   "outputs": [],
   "source": [
    "import numpy as np\n",
    "import os\n",
    "import matplotlib.pyplot as plt\n",
    "import scipy.optimize as sp\n",
    "import scipy.constants as const\n",
    "plt.rcParams['figure.dpi'] = 150\n",
    "%matplotlib inline\n",
    "plt.rc(\"axes\", labelsize=14)\n",
    "plt.rc(\"xtick\", labelsize=14, top=True, direction=\"in\")\n",
    "plt.rc(\"ytick\", labelsize=14, right=True, direction=\"in\")\n",
    "plt.rc(\"axes\", titlesize=14)\n",
    "plt.rc(\"legend\", fontsize=14, loc=\"upper left\")\n",
    "\n",
    "cm = 1.5/2.54 #define ratio for cm and inches"
   ]
  },
  {
   "cell_type": "code",
   "execution_count": 12,
   "metadata": {},
   "outputs": [],
   "source": [
    "Data_names = []\n",
    "\n",
    "# Method for going through all the data we have, and it fucking works dawg\n",
    "for (dir_path, dir_names, file_names) in os.walk('./Data_Labday_1'):\n",
    "    for file_name in file_names:\n",
    "        if file_name.endswith('.txt'): #ensures we grab only the files ending with .txt\n",
    "            Data_names.append(os.path.join(dir_path, file_name))"
   ]
  },
  {
   "cell_type": "code",
   "execution_count": 26,
   "metadata": {},
   "outputs": [],
   "source": [
    "time = [] #array for all time data lists\n",
    "V1 = [] #Same again for votlage readings\n",
    "\n",
    "for Data_name in Data_names:\n",
    "    Data = np.loadtxt(Data_name, skiprows=3)\n",
    "    time.append(Data[:, 0])\n",
    "    V1.append(Data[:, 1])  # Assuming V1 is in the first column\n",
    "    #print(time)\n",
    "    #print(V1)"
   ]
  },
  {
   "cell_type": "code",
   "execution_count": 14,
   "metadata": {},
   "outputs": [],
   "source": [
    "#Here we make the functions for the fits used\n",
    "#Guesses for the linear function\n",
    "a_lin_guess = 1.2 \n",
    "k_lin_guess = 21e-8 \n",
    "offset_lin_guess = 0.4\n",
    "p0 = [a_lin_guess, k_lin_guess, offset_lin_guess]\n",
    "\n",
    "frequency = (2*np.pi)/(633e-9)\n",
    "\n",
    "#Linear fit function hoping that it works on a linear fit\n",
    "def Linear_fit(t, *p): \n",
    "    amplitude = p[0]\n",
    "    k = p[1]\n",
    "    offset = p[2]\n",
    "    return amplitude *(np.cos(frequency*2*k*t)) + offset\n",
    "\n",
    "#Guesses for the quadratic fit\n",
    "a_quad_guess = 2\n",
    "k_quad_guess = 21e-9\n",
    "offset_quad_guess = 0.4\n",
    "n_quad_guess = 0\n",
    "p0_NEG = [a_quad_guess, k_quad_guess, offset_quad_guess, n_quad_guess]\n",
    "\n",
    "#Quadratic fit function if it works like this\n",
    "def Quad_fit(t, *p): \n",
    "    amplitude = p[0]\n",
    "    k = p[1]\n",
    "    offset = p[2]\n",
    "    n = p[3]\n",
    "    return amplitude *(np.cos(frequency*2*(k*t**2+n*t))) + offset"
   ]
  },
  {
   "cell_type": "code",
   "execution_count": 23,
   "metadata": {},
   "outputs": [
    {
     "data": {
      "image/png": "[encoded data removed]",
      "text/plain": [
       "<Figure size 1360.63x340.157 with 2 Axes>"
      ]
     },
     "metadata": {
      "needs_background": "light"
     },
     "output_type": "display_data"
    }
   ],
   "source": [
    "#Here using subplots to get 6 graphs for each iteration together.\n",
    "fig, axes = plt.subplots(1,2, figsize=(32*cm,8*cm)) #figure done in inches, use this to choose a good scale\n",
    "axes = axes.flatten() #Means we can iterate over it\n",
    "\n",
    "#Here is my loop where i plot for curve fits with different powers.\n",
    "for i in range(len()):\n",
    "    plt.sca(axes[i])\n",
    "    \n",
    "    popt, pcov = sc.curve_fit(poly2, t, y, p0=np.ones(i+1),sigma=ye, absolute_sigma=True)\n",
    "    plt.plot(xhelp, poly2(xhelp, *popt), 'k-', label = f\"Poly-order {i}\")\n",
    "    plt.xlabel('Cosinus to the spreading angle')\n",
    "    plt.ylabel('measured numbers')\n",
    "    plt.title(f\"Curve fit to the power of {i}\")\n",
    "    plt.legend()\n",
    "    plt.grid()\n",
    "    chim = np.sum(((y-poly2(t, *popt[:i+1]))/ye)**2)\n",
    "    ndf = 10 -(i+1)\n",
    "    p = ss.chi2.sf(chim,ndf)\n",
    "    print(f\"Chi min value to power of {n[i]} = {chim:.3g}\", \"Degress of freedom =\",ndf, f\"p-value = {p: 0.2g}\")\n",
    "    \n",
    "plt.tight_layout()\n",
    "plt.show()"
   ]
  },
  {
   "cell_type": "code",
   "execution_count": null,
   "metadata": {},
   "outputs": [],
   "source": []
  }
 ],
 "metadata": {
  "kernelspec": {
   "display_name": "Python 3",
   "language": "python",
   "name": "python3"
  },
  "language_info": {
   "codemirror_mode": {
    "name": "ipython",
    "version": 3
   },
   "file_extension": ".py",
   "mimetype": "text/x-python",
   "name": "python",
   "nbconvert_exporter": "python",
   "pygments_lexer": "ipython3",
   "version": "3.10.12"
  }
 },
 "nbformat": 4,
 "nbformat_minor": 2
}
